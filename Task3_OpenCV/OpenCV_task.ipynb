{
 "cells": [
  {
   "cell_type": "code",
   "execution_count": 13,
   "id": "f490a3c6-2db4-47dc-9d6f-a820b93f012c",
   "metadata": {},
   "outputs": [],
   "source": [
    "import cv2 as cv\n",
    "import numpy as np\n",
    "videoCap = cv.VideoCapture('Ball_Tracking.mp4')\n",
    "while True:\n",
    "    ret, frame= videoCap.read()\n",
    "    if not ret:\n",
    "        break\n",
    "    cv.imshow('Frame', frame)\n",
    "    if cv.waitKey(1) & 0xFF== ord('q'):\n",
    "        break\n",
    "videoCap.release()\n",
    "cv.destroyAllWindows()"
   ]
  },
  {
   "cell_type": "code",
   "execution_count": 1,
   "id": "db2576a8-08f5-4078-9b24-1018f6439f05",
   "metadata": {},
   "outputs": [],
   "source": [
    "import cv2 as cv\n",
    "import numpy as np\n",
    "\n",
    "videoCap = cv.VideoCapture('Ball_Tracking.mp4')\n",
    "\n",
    "while True:\n",
    "    ret, frame = videoCap.read()\n",
    "    if not ret:\n",
    "        break \n",
    "    cv.imshow('Frame', frame)\n",
    "    if cv.waitKey(1) & 0xFF == ord('q'):\n",
    "        break\n",
    "        \n",
    "videoCap.release()\n",
    "cv.destroyAllWindows()\n"
   ]
  },
  {
   "cell_type": "code",
   "execution_count": null,
   "id": "1ea17d09-d35f-4f4d-9919-f087e77f8dcc",
   "metadata": {},
   "outputs": [],
   "source": []
  }
 ],
 "metadata": {
  "kernelspec": {
   "display_name": "Python 3 (ipykernel)",
   "language": "python",
   "name": "python3"
  },
  "language_info": {
   "codemirror_mode": {
    "name": "ipython",
    "version": 3
   },
   "file_extension": ".py",
   "mimetype": "text/x-python",
   "name": "python",
   "nbconvert_exporter": "python",
   "pygments_lexer": "ipython3",
   "version": "3.13.0"
  }
 },
 "nbformat": 4,
 "nbformat_minor": 5
}
